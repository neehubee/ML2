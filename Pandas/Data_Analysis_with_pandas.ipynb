{
 "cells": [
  {
   "cell_type": "code",
   "execution_count": 1,
   "id": "cef4e96a-13fd-49af-a464-0fb79edb0e60",
   "metadata": {},
   "outputs": [],
   "source": [
    "import pandas as pd\n",
    "customers=pd.read_csv(r\"C:\\Users\\user\\Downloads\\customers.csv\")\n",
    "transactions=pd.read_csv(r\"C:\\Users\\user\\Downloads\\transactions.csv\")\n"
   ]
  },
  {
   "cell_type": "code",
   "execution_count": 4,
   "id": "ad74ad28-ade6-440c-bb71-5a4f767c541f",
   "metadata": {},
   "outputs": [
    {
     "data": {
      "text/html": [
       "<div>\n",
       "<style scoped>\n",
       "    .dataframe tbody tr th:only-of-type {\n",
       "        vertical-align: middle;\n",
       "    }\n",
       "\n",
       "    .dataframe tbody tr th {\n",
       "        vertical-align: top;\n",
       "    }\n",
       "\n",
       "    .dataframe thead th {\n",
       "        text-align: right;\n",
       "    }\n",
       "</style>\n",
       "<table border=\"1\" class=\"dataframe\">\n",
       "  <thead>\n",
       "    <tr style=\"text-align: right;\">\n",
       "      <th></th>\n",
       "      <th>customer_id</th>\n",
       "      <th>name</th>\n",
       "      <th>age</th>\n",
       "      <th>city</th>\n",
       "      <th>transaction_id</th>\n",
       "      <th>date</th>\n",
       "      <th>amount</th>\n",
       "      <th>product_category</th>\n",
       "    </tr>\n",
       "  </thead>\n",
       "  <tbody>\n",
       "    <tr>\n",
       "      <th>0</th>\n",
       "      <td>C001</td>\n",
       "      <td>Alice Smith</td>\n",
       "      <td>28</td>\n",
       "      <td>New York</td>\n",
       "      <td>T001</td>\n",
       "      <td>2024-07-01</td>\n",
       "      <td>120.5</td>\n",
       "      <td>Electronics</td>\n",
       "    </tr>\n",
       "    <tr>\n",
       "      <th>1</th>\n",
       "      <td>C001</td>\n",
       "      <td>Alice Smith</td>\n",
       "      <td>28</td>\n",
       "      <td>New York</td>\n",
       "      <td>T004</td>\n",
       "      <td>2024-07-04</td>\n",
       "      <td>220.0</td>\n",
       "      <td>Electronics</td>\n",
       "    </tr>\n",
       "    <tr>\n",
       "      <th>2</th>\n",
       "      <td>C001</td>\n",
       "      <td>Alice Smith</td>\n",
       "      <td>28</td>\n",
       "      <td>New York</td>\n",
       "      <td>T012</td>\n",
       "      <td>2024-07-12</td>\n",
       "      <td>40.0</td>\n",
       "      <td>Clothing</td>\n",
       "    </tr>\n",
       "    <tr>\n",
       "      <th>3</th>\n",
       "      <td>C002</td>\n",
       "      <td>Bob Johnson</td>\n",
       "      <td>35</td>\n",
       "      <td>Los Angeles</td>\n",
       "      <td>T002</td>\n",
       "      <td>2024-07-02</td>\n",
       "      <td>80.0</td>\n",
       "      <td>Groceries</td>\n",
       "    </tr>\n",
       "    <tr>\n",
       "      <th>4</th>\n",
       "      <td>C002</td>\n",
       "      <td>Bob Johnson</td>\n",
       "      <td>35</td>\n",
       "      <td>Los Angeles</td>\n",
       "      <td>T013</td>\n",
       "      <td>2024-07-13</td>\n",
       "      <td>180.0</td>\n",
       "      <td>Home</td>\n",
       "    </tr>\n",
       "  </tbody>\n",
       "</table>\n",
       "</div>"
      ],
      "text/plain": [
       "  customer_id         name  age         city transaction_id        date  \\\n",
       "0        C001  Alice Smith   28     New York           T001  2024-07-01   \n",
       "1        C001  Alice Smith   28     New York           T004  2024-07-04   \n",
       "2        C001  Alice Smith   28     New York           T012  2024-07-12   \n",
       "3        C002  Bob Johnson   35  Los Angeles           T002  2024-07-02   \n",
       "4        C002  Bob Johnson   35  Los Angeles           T013  2024-07-13   \n",
       "\n",
       "   amount product_category  \n",
       "0   120.5      Electronics  \n",
       "1   220.0      Electronics  \n",
       "2    40.0         Clothing  \n",
       "3    80.0        Groceries  \n",
       "4   180.0             Home  "
      ]
     },
     "execution_count": 4,
     "metadata": {},
     "output_type": "execute_result"
    }
   ],
   "source": [
    "#merging using inner join\n",
    "merge_df=pd.merge(customers,transactions, on='customer_id', how='inner')\n",
    "merge_df.head()"
   ]
  },
  {
   "cell_type": "code",
   "execution_count": 5,
   "id": "be4a6f8b-22d6-4242-b31c-5f21b76aedd8",
   "metadata": {},
   "outputs": [
    {
     "name": "stdout",
     "output_type": "stream",
     "text": [
      "<class 'pandas.core.frame.DataFrame'>\n",
      "RangeIndex: 20 entries, 0 to 19\n",
      "Data columns (total 8 columns):\n",
      " #   Column            Non-Null Count  Dtype  \n",
      "---  ------            --------------  -----  \n",
      " 0   customer_id       20 non-null     object \n",
      " 1   name              20 non-null     object \n",
      " 2   age               20 non-null     int64  \n",
      " 3   city              20 non-null     object \n",
      " 4   transaction_id    20 non-null     object \n",
      " 5   date              20 non-null     object \n",
      " 6   amount            20 non-null     float64\n",
      " 7   product_category  20 non-null     object \n",
      "dtypes: float64(1), int64(1), object(6)\n",
      "memory usage: 1.4+ KB\n"
     ]
    }
   ],
   "source": [
    "merge_df.info()"
   ]
  },
  {
   "cell_type": "code",
   "execution_count": 7,
   "id": "34229815-33aa-4dfa-857f-07b6df3cb734",
   "metadata": {},
   "outputs": [
    {
     "name": "stdout",
     "output_type": "stream",
     "text": [
      "<class 'pandas.core.series.Series'>\n",
      "Index: 10 entries, 22 to 45\n",
      "Series name: amount\n",
      "Non-Null Count  Dtype  \n",
      "--------------  -----  \n",
      "10 non-null     float64\n",
      "dtypes: float64(1)\n",
      "memory usage: 160.0 bytes\n"
     ]
    }
   ],
   "source": [
    "#group by same age and get total sales\n",
    "age_summary=merge_df.groupby('age')['amount'].sum()\n",
    "age_summary.info()\n"
   ]
  },
  {
   "cell_type": "code",
   "execution_count": 8,
   "id": "7699eec5-9b72-43b3-ab89-aa5ad6619e08",
   "metadata": {},
   "outputs": [
    {
     "data": {
      "text/plain": [
       "age\n",
       "22    105.0\n",
       "24    180.0\n",
       "27    115.0\n",
       "28    380.5\n",
       "29    345.0\n",
       "30    400.0\n",
       "33    180.0\n",
       "35    260.0\n",
       "41     35.0\n",
       "45    275.0\n",
       "Name: amount, dtype: float64"
      ]
     },
     "execution_count": 8,
     "metadata": {},
     "output_type": "execute_result"
    }
   ],
   "source": [
    "age_summary"
   ]
  },
  {
   "cell_type": "code",
   "execution_count": 15,
   "id": "577760f0-8f36-404d-8177-215dd0c9e009",
   "metadata": {},
   "outputs": [],
   "source": [
    "#aggreagte fuctions\n",
    "city_summary=merge_df.groupby('city').agg({'city':'sum','amount':'sum'})"
   ]
  },
  {
   "cell_type": "code",
   "execution_count": 16,
   "id": "73e63574-6f3c-4db1-b8a6-107232fb9906",
   "metadata": {},
   "outputs": [
    {
     "data": {
      "text/html": [
       "<div>\n",
       "<style scoped>\n",
       "    .dataframe tbody tr th:only-of-type {\n",
       "        vertical-align: middle;\n",
       "    }\n",
       "\n",
       "    .dataframe tbody tr th {\n",
       "        vertical-align: top;\n",
       "    }\n",
       "\n",
       "    .dataframe thead th {\n",
       "        text-align: right;\n",
       "    }\n",
       "</style>\n",
       "<table border=\"1\" class=\"dataframe\">\n",
       "  <thead>\n",
       "    <tr style=\"text-align: right;\">\n",
       "      <th></th>\n",
       "      <th>city</th>\n",
       "      <th>amount</th>\n",
       "    </tr>\n",
       "    <tr>\n",
       "      <th>city</th>\n",
       "      <th></th>\n",
       "      <th></th>\n",
       "    </tr>\n",
       "  </thead>\n",
       "  <tbody>\n",
       "    <tr>\n",
       "      <th>Chicago</th>\n",
       "      <td>ChicagoChicagoChicagoChicago</td>\n",
       "      <td>380.0</td>\n",
       "    </tr>\n",
       "    <tr>\n",
       "      <th>Houston</th>\n",
       "      <td>HoustonHoustonHouston</td>\n",
       "      <td>215.0</td>\n",
       "    </tr>\n",
       "    <tr>\n",
       "      <th>Los Angeles</th>\n",
       "      <td>Los AngelesLos AngelesLos AngelesLos Angeles</td>\n",
       "      <td>605.0</td>\n",
       "    </tr>\n",
       "    <tr>\n",
       "      <th>New York</th>\n",
       "      <td>New YorkNew YorkNew YorkNew YorkNew York</td>\n",
       "      <td>495.5</td>\n",
       "    </tr>\n",
       "    <tr>\n",
       "      <th>Phoenix</th>\n",
       "      <td>PhoenixPhoenixPhoenixPhoenix</td>\n",
       "      <td>580.0</td>\n",
       "    </tr>\n",
       "  </tbody>\n",
       "</table>\n",
       "</div>"
      ],
      "text/plain": [
       "                                                     city  amount\n",
       "city                                                             \n",
       "Chicago                      ChicagoChicagoChicagoChicago   380.0\n",
       "Houston                             HoustonHoustonHouston   215.0\n",
       "Los Angeles  Los AngelesLos AngelesLos AngelesLos Angeles   605.0\n",
       "New York         New YorkNew YorkNew YorkNew YorkNew York   495.5\n",
       "Phoenix                      PhoenixPhoenixPhoenixPhoenix   580.0"
      ]
     },
     "execution_count": 16,
     "metadata": {},
     "output_type": "execute_result"
    }
   ],
   "source": [
    "city_summary\n"
   ]
  },
  {
   "cell_type": "code",
   "execution_count": 17,
   "id": "0c1191af-4131-4123-b6fe-5b3e4a8fe523",
   "metadata": {},
   "outputs": [
    {
     "data": {
      "text/plain": [
       "<Axes: title={'center': 'Total Amount by Age'}, xlabel='Age', ylabel='Amount'>"
      ]
     },
     "execution_count": 17,
     "metadata": {},
     "output_type": "execute_result"
    },
    {
     "data": {
      "image/png": "[encoded data removed]",
      "text/plain": [
       "<Figure size 800x400 with 1 Axes>"
      ]
     },
     "metadata": {},
     "output_type": "display_data"
    }
   ],
   "source": [
    "age_summary.plot(kind='bar', figsize=(8, 4), color='green', title='Total Amount by Age', xlabel='Age', ylabel='Amount')\n"
   ]
  },
  {
   "cell_type": "code",
   "execution_count": null,
   "id": "cfbe6b2b-112e-48d1-9c34-864fa15dc6b6",
   "metadata": {},
   "outputs": [],
   "source": []
  }
 ],
 "metadata": {
  "kernelspec": {
   "display_name": "Python [conda env:base] *",
   "language": "python",
   "name": "conda-base-py"
  },
  "language_info": {
   "codemirror_mode": {
    "name": "ipython",
    "version": 3
   },
   "file_extension": ".py",
   "mimetype": "text/x-python",
   "name": "python",
   "nbconvert_exporter": "python",
   "pygments_lexer": "ipython3",
   "version": "3.13.5"
  }
 },
 "nbformat": 4,
 "nbformat_minor": 5
}
