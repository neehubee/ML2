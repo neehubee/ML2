{
 "cells": [
  {
   "cell_type": "code",
   "execution_count": 20,
   "id": "190b0b99-ed63-4600-82ae-599df703bb63",
   "metadata": {},
   "outputs": [
    {
     "name": "stdout",
     "output_type": "stream",
     "text": [
      "[[1 2 3]\n",
      " [4 5 6]]\n"
     ]
    }
   ],
   "source": [
    "import numpy as np\n",
    "array_2d=np.array([[1,2,3],[4,5,6]])\n",
    "print(array_2d)"
   ]
  },
  {
   "cell_type": "code",
   "execution_count": null,
   "id": "02914aee-92b1-4353-a160-cae9dd3a0a5a",
   "metadata": {},
   "outputs": [],
   "source": []
  },
  {
   "cell_type": "code",
   "execution_count": 21,
   "id": "d9d316b2-21fb-464d-9502-0707005f210c",
   "metadata": {},
   "outputs": [],
   "source": [
    "#array of zeros\n",
    "zeros=np.zeros((3,3))"
   ]
  },
  {
   "cell_type": "code",
   "execution_count": 22,
   "id": "7f3ded32-0d04-447f-b65d-b1650790de9f",
   "metadata": {},
   "outputs": [
    {
     "name": "stdout",
     "output_type": "stream",
     "text": [
      "[[0. 0. 0.]\n",
      " [0. 0. 0.]\n",
      " [0. 0. 0.]]\n"
     ]
    }
   ],
   "source": [
    "print(zeros)"
   ]
  },
  {
   "cell_type": "code",
   "execution_count": 23,
   "id": "f0b0bee8-5701-4bd4-935e-7c50b246170a",
   "metadata": {},
   "outputs": [
    {
     "name": "stdout",
     "output_type": "stream",
     "text": [
      "[[1. 1. 1.]\n",
      " [1. 1. 1.]]\n"
     ]
    }
   ],
   "source": [
    "ones=np.ones((2,3))\n",
    "print(ones)\n",
    "#an array of ones"
   ]
  },
  {
   "cell_type": "code",
   "execution_count": 24,
   "id": "8e6b7946-8b6c-4df5-8249-a02c50f936b4",
   "metadata": {},
   "outputs": [
    {
     "name": "stdout",
     "output_type": "stream",
     "text": [
      "[0 1 2 3 4 5 6 7 8 9]\n"
     ]
    }
   ],
   "source": [
    "#creating an array with values 0 to 9\n",
    "range_array=np.arange(10)\n",
    "print(range_array)"
   ]
  },
  {
   "cell_type": "code",
   "execution_count": 26,
   "id": "d394e2ad-90b9-45fe-bddb-da3ec1d4e947",
   "metadata": {},
   "outputs": [
    {
     "name": "stdout",
     "output_type": "stream",
     "text": [
      "[0.   0.25 0.5  0.75 1.  ]\n"
     ]
    }
   ],
   "source": [
    "#5 even;y placed values between 0 and 5\n",
    "linespace_array=np.linspace(0,1,5)\n",
    "print(linespace_array)"
   ]
  },
  {
   "cell_type": "code",
   "execution_count": 27,
   "id": "6179bb95-b520-499d-a61a-f923b934d1ae",
   "metadata": {},
   "outputs": [
    {
     "name": "stdout",
     "output_type": "stream",
     "text": [
      "6\n",
      "(2, 3)\n"
     ]
    }
   ],
   "source": [
    "#shape and size of an array\n",
    "print(array_2d.size)\n",
    "print(array_2d.shape)"
   ]
  },
  {
   "cell_type": "code",
   "execution_count": null,
   "id": "c2aa1033-840d-4743-b09d-dba4f237d179",
   "metadata": {},
   "outputs": [],
   "source": []
  },
  {
   "cell_type": "code",
   "execution_count": null,
   "id": "55501813-aaad-4852-b90b-3b9e3f665eec",
   "metadata": {},
   "outputs": [],
   "source": []
  },
  {
   "cell_type": "code",
   "execution_count": null,
   "id": "e4c8936e-7dfb-4df1-bfac-ab50c7b4aaff",
   "metadata": {},
   "outputs": [],
   "source": []
  },
  {
   "cell_type": "code",
   "execution_count": null,
   "id": "262e297f-7d0f-46cd-8e68-dc9f4360c67c",
   "metadata": {},
   "outputs": [],
   "source": []
  }
 ],
 "metadata": {
  "kernelspec": {
   "display_name": "Python [conda env:base] *",
   "language": "python",
   "name": "conda-base-py"
  },
  "language_info": {
   "codemirror_mode": {
    "name": "ipython",
    "version": 3
   },
   "file_extension": ".py",
   "mimetype": "text/x-python",
   "name": "python",
   "nbconvert_exporter": "python",
   "pygments_lexer": "ipython3",
   "version": "3.13.5"
  }
 },
 "nbformat": 4,
 "nbformat_minor": 5
}
