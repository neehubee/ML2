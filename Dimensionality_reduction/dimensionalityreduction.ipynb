{
 "cells": [
  {
   "cell_type": "markdown",
   "id": "2da608f7-8828-4aa4-85e7-2fcda83d6662",
   "metadata": {},
   "source": [
    "# Load & Preprocess Dataset"
   ]
  },
  {
   "cell_type": "code",
   "execution_count": 2,
   "id": "bec71216-5cfc-4f80-95ef-dffbc531fef1",
   "metadata": {},
   "outputs": [],
   "source": [
    "import pandas as pd\n",
    "import numpy as np\n",
    "\n",
    "# Load the dataset\n",
    "df = pd.read_csv(\"diabetes.csv\")\n",
    "\n",
    "# Replace 0s with NaN for biologically implausible fields\n",
    "cols_with_zero = ['Glucose', 'BloodPressure', 'SkinThickness', 'Insulin', 'BMI']\n",
    "df[cols_with_zero] = df[cols_with_zero].replace(0, np.nan)\n",
    "\n",
    "# Fill missing values with median (simple strategy)\n",
    "df.fillna(df.median(numeric_only=True), inplace=True)\n",
    "\n",
    "\n"
   ]
  },
  {
   "cell_type": "code",
   "execution_count": 3,
   "id": "8176824e-474f-40d3-8ec9-1bfe7dc1b173",
   "metadata": {},
   "outputs": [
    {
     "name": "stdout",
     "output_type": "stream",
     "text": [
      "<class 'pandas.core.frame.DataFrame'>\n",
      "RangeIndex: 768 entries, 0 to 767\n",
      "Data columns (total 9 columns):\n",
      " #   Column                    Non-Null Count  Dtype  \n",
      "---  ------                    --------------  -----  \n",
      " 0   Pregnancies               768 non-null    int64  \n",
      " 1   Glucose                   768 non-null    float64\n",
      " 2   BloodPressure             768 non-null    float64\n",
      " 3   SkinThickness             768 non-null    float64\n",
      " 4   Insulin                   768 non-null    float64\n",
      " 5   BMI                       768 non-null    float64\n",
      " 6   DiabetesPedigreeFunction  768 non-null    float64\n",
      " 7   Age                       768 non-null    int64  \n",
      " 8   Outcome                   768 non-null    int64  \n",
      "dtypes: float64(6), int64(3)\n",
      "memory usage: 54.1 KB\n"
     ]
    }
   ],
   "source": [
    "df.info()"
   ]
  },
  {
   "cell_type": "code",
   "execution_count": 4,
   "id": "04fe9a15-6920-450d-8991-e0af2999422a",
   "metadata": {},
   "outputs": [
    {
     "data": {
      "text/plain": [
       "Pregnancies                 0\n",
       "Glucose                     0\n",
       "BloodPressure               0\n",
       "SkinThickness               0\n",
       "Insulin                     0\n",
       "BMI                         0\n",
       "DiabetesPedigreeFunction    0\n",
       "Age                         0\n",
       "Outcome                     0\n",
       "dtype: int64"
      ]
     },
     "execution_count": 4,
     "metadata": {},
     "output_type": "execute_result"
    }
   ],
   "source": [
    "df.isnull().sum()"
   ]
  },
  {
   "cell_type": "code",
   "execution_count": 5,
   "id": "3c2538a5-bc9d-4a32-855a-7cf8f94cd002",
   "metadata": {},
   "outputs": [],
   "source": [
    "# Feature and label split\n",
    "X = df.drop(\"Outcome\", axis=1)\n",
    "y = df[\"Outcome\"]"
   ]
  },
  {
   "cell_type": "markdown",
   "id": "93f16ab8-41ab-491c-bfe2-3959ebb154bd",
   "metadata": {},
   "source": [
    "# Feature Selection: Forward Selection"
   ]
  },
  {
   "cell_type": "code",
   "execution_count": 6,
   "id": "83233f7f-795b-45b8-9e8e-06fc3958ceed",
   "metadata": {},
   "outputs": [
    {
     "name": "stdout",
     "output_type": "stream",
     "text": [
      "Forward selected features: ['Pregnancies', 'Glucose', 'BMI', 'Age']\n"
     ]
    }
   ],
   "source": [
    "from sklearn.linear_model import LogisticRegression\n",
    "from sklearn.feature_selection import SequentialFeatureSelector\n",
    "from sklearn.model_selection import train_test_split\n",
    "from sklearn.preprocessing import StandardScaler\n",
    "\n",
    "# Split the data\n",
    "X_train, X_test, y_train, y_test = train_test_split(X, y, test_size=0.2, random_state=42)\n",
    "\n",
    "# Scale features\n",
    "scaler = StandardScaler()\n",
    "X_train_scaled = scaler.fit_transform(X_train)\n",
    "X_test_scaled = scaler.transform(X_test)\n",
    "\n",
    "# Logistic Regression Model\n",
    "logreg = LogisticRegression(max_iter=1000)\n",
    "\n",
    "# Forward Selection\n",
    "sfs_forward = SequentialFeatureSelector(logreg, n_features_to_select='auto', direction='forward', scoring='accuracy', cv=5)\n",
    "sfs_forward.fit(X_train_scaled, y_train)\n",
    "\n",
    "# Selected features\n",
    "selected_forward = X.columns[sfs_forward.get_support()]\n",
    "print(\"Forward selected features:\", list(selected_forward))\n"
   ]
  },
  {
   "cell_type": "markdown",
   "id": "0c049a27-1ebb-44d8-9d43-faf462950854",
   "metadata": {},
   "source": [
    "# Feature Selection: Backward Selection"
   ]
  },
  {
   "cell_type": "code",
   "execution_count": 7,
   "id": "489249fd-9094-4dc2-8754-d9c85a19394f",
   "metadata": {},
   "outputs": [
    {
     "name": "stdout",
     "output_type": "stream",
     "text": [
      "Backward selected features: ['Glucose', 'SkinThickness', 'BMI', 'DiabetesPedigreeFunction']\n"
     ]
    }
   ],
   "source": [
    "# Backward Selection\n",
    "sfs_backward = SequentialFeatureSelector(logreg, n_features_to_select='auto', direction='backward', scoring='accuracy', cv=5)\n",
    "sfs_backward.fit(X_train_scaled, y_train)\n",
    "\n",
    "# Selected features\n",
    "selected_backward = X.columns[sfs_backward.get_support()]\n",
    "print(\"Backward selected features:\", list(selected_backward))\n"
   ]
  },
  {
   "cell_type": "markdown",
   "id": "fb6443ba-7706-4549-ab3e-f12762b678eb",
   "metadata": {},
   "source": [
    "# Model Training on Selected Features"
   ]
  },
  {
   "cell_type": "code",
   "execution_count": 8,
   "id": "251f5b28-bcb7-4ab7-82d1-23325f66b79c",
   "metadata": {},
   "outputs": [
    {
     "name": "stdout",
     "output_type": "stream",
     "text": [
      "Confusion Matrix:\n",
      " [[84 15]\n",
      " [21 34]]\n",
      "\n",
      "Classification Report:\n",
      "               precision    recall  f1-score   support\n",
      "\n",
      "           0       0.80      0.85      0.82        99\n",
      "           1       0.69      0.62      0.65        55\n",
      "\n",
      "    accuracy                           0.77       154\n",
      "   macro avg       0.75      0.73      0.74       154\n",
      "weighted avg       0.76      0.77      0.76       154\n",
      "\n",
      "ROC AUC Score: 0.8163452708907254\n"
     ]
    },
    {
     "data": {
      "text/plain": [
       "<sklearn.metrics._plot.roc_curve.RocCurveDisplay at 0x1ca8e29dd30>"
      ]
     },
     "execution_count": 8,
     "metadata": {},
     "output_type": "execute_result"
    },
    {
     "data": {
      "image/png": "[encoded data removed]",
      "text/plain": [
       "<Figure size 640x480 with 1 Axes>"
      ]
     },
     "metadata": {},
     "output_type": "display_data"
    }
   ],
   "source": [
    "from sklearn.metrics import classification_report, confusion_matrix, roc_auc_score, RocCurveDisplay\n",
    "\n",
    "# Use forward selection features\n",
    "X_train_fs = X_train[selected_forward]\n",
    "X_test_fs = X_test[selected_forward]\n",
    "\n",
    "# Scale again\n",
    "X_train_fs_scaled = scaler.fit_transform(X_train_fs)\n",
    "X_test_fs_scaled = scaler.transform(X_test_fs)\n",
    "\n",
    "# Train model\n",
    "model = LogisticRegression(max_iter=1000)\n",
    "model.fit(X_train_fs_scaled, y_train)\n",
    "\n",
    "# Predict\n",
    "y_pred = model.predict(X_test_fs_scaled)\n",
    "y_prob = model.predict_proba(X_test_fs_scaled)[:, 1]\n",
    "\n",
    "# Evaluation\n",
    "print(\"Confusion Matrix:\\n\", confusion_matrix(y_test, y_pred))\n",
    "print(\"\\nClassification Report:\\n\", classification_report(y_test, y_pred))\n",
    "print(\"ROC AUC Score:\", roc_auc_score(y_test, y_prob))\n",
    "\n",
    "# ROC Curve\n",
    "RocCurveDisplay.from_estimator(model, X_test_fs_scaled, y_test)\n"
   ]
  },
  {
   "cell_type": "code",
   "execution_count": null,
   "id": "829071a7-5666-4fed-9ff5-2ec31baf6acf",
   "metadata": {},
   "outputs": [],
   "source": []
  }
 ],
 "metadata": {
  "kernelspec": {
   "display_name": "Python [conda env:base] *",
   "language": "python",
   "name": "conda-base-py"
  },
  "language_info": {
   "codemirror_mode": {
    "name": "ipython",
    "version": 3
   },
   "file_extension": ".py",
   "mimetype": "text/x-python",
   "name": "python",
   "nbconvert_exporter": "python",
   "pygments_lexer": "ipython3",
   "version": "3.13.5"
  }
 },
 "nbformat": 4,
 "nbformat_minor": 5
}
